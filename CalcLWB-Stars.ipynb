{
 "cells": [
  {
   "cell_type": "code",
   "execution_count": 1,
   "metadata": {},
   "outputs": [],
   "source": [
    "%matplotlib inline\n",
    "import numpy as np\n",
    "import matplotlib.pyplot as plt\n",
    "import glob\n",
    "import h5py as h5\n",
    "from yt.utilities import cosmology as co"
   ]
  },
  {
   "cell_type": "code",
   "execution_count": 2,
   "metadata": {},
   "outputs": [],
   "source": [
    "from matplotlib import rc\n",
    "rc('font', size=18)"
   ]
  },
  {
   "cell_type": "code",
   "execution_count": 3,
   "metadata": {},
   "outputs": [],
   "source": [
    "cosmo = co.Cosmology(hubble_constant=0.71, omega_matter=0.266, omega_lambda=0.734)"
   ]
  },
  {
   "cell_type": "markdown",
   "metadata": {},
   "source": [
    "# Read file with center and J_LW(z)"
   ]
  },
  {
   "cell_type": "code",
   "execution_count": 4,
   "metadata": {},
   "outputs": [],
   "source": [
    "#infile = \"jlw-region.dat\"\n",
    "#infile = 'MM-position.dat'\n",
    "infile = 'dcbh-106608.dat'\n",
    "fp = open(infile, \"r\")\n",
    "center = {}\n",
    "redshift = {}\n",
    "time = {}\n",
    "J_from_file = {}\n",
    "for line in fp.readlines():\n",
    "    if line.startswith('#'): continue\n",
    "    parts = line.split()\n",
    "    ds = parts[1]\n",
    "    center[ds] = np.array([float(p) for p in parts[3:6]])\n",
    "    redshift[ds] = float(parts[0])\n",
    "    J_from_file[ds] = float(parts[6])\n",
    "    time[ds] = cosmo.t_from_z(redshift[ds]).to('Myr').v\n",
    "fp.close()"
   ]
  },
  {
   "cell_type": "markdown",
   "metadata": {},
   "source": [
    "# Load star data\n",
    "Sort everything by particle ID for easier searching"
   ]
  },
  {
   "cell_type": "code",
   "execution_count": 6,
   "metadata": {},
   "outputs": [],
   "source": [
    "stardir = 'star-data'\n",
    "sdata = {}\n",
    "first_time = True\n",
    "attributes = dict(top=['time_unit', 'boxsize'], output=['current_redshift', 'current_time'])\n",
    "for fn in sorted(glob.glob(\"%s/*.h5\" % (stardir))):\n",
    "    ds = fn.split(\"/\")[-1].split(\"-stars\")[0]\n",
    "    sdata[ds] = {}\n",
    "    fp = h5.File(fn, 'r')\n",
    "    if first_time:\n",
    "        for attr in attributes['top']:\n",
    "            sdata[attr] = fp.attrs.get(attr)\n",
    "        first_time = False\n",
    "    for attr in attributes['output']:\n",
    "        sdata[ds][attr] = fp.attrs.get(attr)\n",
    "    for k in fp.keys():\n",
    "        sdata[ds][k] = fp[k][:]\n",
    "    fp.close()\n",
    "    \n",
    "for k,dd in sdata.items():\n",
    "    if k in attributes['top']: continue\n",
    "    idsort = np.argsort(dd['particle_index'])\n",
    "    for f in dd.keys():\n",
    "        if f in attributes['output']: continue\n",
    "        dd[f] = dd[f][idsort]\n",
    "    # Correct Pop III masses for SN explosions (1e-20 factor)\n",
    "    SN3 = (dd['particle_mass'] < 1e-10) & (dd['type'] == 3)\n",
    "    dd['particle_mass'][SN3] *= 1e20"
   ]
  },
  {
   "cell_type": "code",
   "execution_count": 7,
   "metadata": {},
   "outputs": [],
   "source": [
    "# If time_unit didn't exist in data file, we have to manually grab it from the parameter file\n",
    "if sdata['time_unit'] == None:\n",
    "    sdata['time_unit'] = 6.5927815e14 / 3.1557e13  # Myr"
   ]
  },
  {
   "cell_type": "markdown",
   "metadata": {},
   "source": [
    "# Function to find adjacent outputs and interpolation factor (in time)"
   ]
  },
  {
   "cell_type": "code",
   "execution_count": 8,
   "metadata": {},
   "outputs": [],
   "source": [
    "def find_adj_ds(z, allz):\n",
    "    nz = len(redshift.keys())\n",
    "    za = np.zeros(nz)\n",
    "    ds = []\n",
    "    _ds = []\n",
    "    for i,k in enumerate(redshift.keys()):\n",
    "        za[i] = allz[k]\n",
    "        _ds.append(k)\n",
    "    zsort = np.argsort(za)\n",
    "    za = za[zsort]\n",
    "    for zs in zsort:\n",
    "        ds.append(_ds[zs])\n",
    "    iz = np.searchsorted(za, z)\n",
    "    factor = 0.0\n",
    "    dt = 0.0  # Myr\n",
    "    if iz == 0:\n",
    "        ds0 = ds[iz]\n",
    "        ds1 = None\n",
    "    elif iz == nz:\n",
    "        ds0 = None\n",
    "        ds1 = ds[iz-1]\n",
    "    else:\n",
    "        ds1 = ds[iz-1]\n",
    "        ds0 = ds[iz]\n",
    "        # Convert redshift to time (not normalized since we're dealing with fractional values)\n",
    "        # Assumes an EdS universe\n",
    "        t = (z+1)**(-2./3)\n",
    "        t0 = (za[iz-1]+1)**(-2./3)\n",
    "        t1 = (za[iz]+1)**(-2./3)\n",
    "        factor = (t - t0) / (t1 - t0)\n",
    "    return ds0, ds1, factor"
   ]
  },
  {
   "cell_type": "code",
   "execution_count": 9,
   "metadata": {},
   "outputs": [],
   "source": [
    "def p3life(mass):\n",
    "    # Schaerer (2002)\n",
    "    # Input: solar masses\n",
    "    # Output: Lifetime in Myr\n",
    "    x = np.log10(mass)\n",
    "    return 10**(3.785 - 3.759*x + 1.413*x*x - 0.186*x*x*x)"
   ]
  },
  {
   "cell_type": "code",
   "execution_count": 10,
   "metadata": {},
   "outputs": [],
   "source": [
    "def p3lw(mass):\n",
    "    # Schaerer (2002)\n",
    "    # Input: solar masses\n",
    "    # Output: LW photon luminosity (ph/s)\n",
    "    x = np.log10(mass)\n",
    "    return 10**(44.03 + 4.59*x - 0.77*x*x)"
   ]
  },
  {
   "cell_type": "markdown",
   "metadata": {},
   "source": [
    "# Function to interpolate particle information"
   ]
  },
  {
   "cell_type": "code",
   "execution_count": 11,
   "metadata": {},
   "outputs": [],
   "source": [
    "def interp_particles(data, ds0, ds1, dt, fint):\n",
    "    nstars1 = data[ds1]['particle_index'].size\n",
    "    luminosity_t = np.zeros(nstars1)\n",
    "    position_t = np.zeros((nstars1,3))\n",
    "    \n",
    "    # \n",
    "    # Direct interpolation for star particles that exist in both datasets\n",
    "    #\n",
    "    exists = np.in1d(data[ds0]['particle_index'], data[ds1]['particle_index'], invert=False)\n",
    "    #idel = np.where(data[ds0]['particle_index'][deleted])\n",
    "    match = np.in1d(data[ds1]['particle_index'], data[ds0]['particle_index'][exists])\n",
    "    dr = data[ds1]['particle_position'][match] - data[ds0]['particle_position'][exists]\n",
    "    position_t[match] = data[ds0]['particle_position'][exists] + fint*dr\n",
    "    #print position_t[match]\n",
    "    \n",
    "    # Search for massive star particles that are still radiating at the given time\n",
    "    # Pop III stars\n",
    "    p3_lifetime = p3life(data[ds1]['particle_mass'])\n",
    "    p2_lifetime = 20.0\n",
    "    p3 = (data[ds1]['type'] == 3) & \\\n",
    "        (data[ds1]['age'] - fint*dt < p3_lifetime) & \\\n",
    "        (data[ds1]['age'] - fint*dt > 0)\n",
    "    # Metal-enriched stars\n",
    "    p2 = (data[ds1]['type'] == 2) & \\\n",
    "        (data[ds1]['age'] - fint*dt < p2_lifetime) & \\\n",
    "        (data[ds1]['age'] - fint*dt > 0)\n",
    "\n",
    "    # Calculate ionizing photon luminosity for the living star particles\n",
    "    specific_LW = 1.288 * 1.12e46  # 1.12e46 ionizing ph/s, 1.288x more LW photons (Schaerer 2003)\n",
    "    luminosity_t[p3] = p3lw(data[ds1]['particle_mass'][p3])\n",
    "    luminosity_t[p2] = specific_LW * data[ds1]['particle_mass'][p2]\n",
    "        \n",
    "    #\n",
    "    # For stars that only exist in the latter dataset, we use the velocity to extrapolate \n",
    "    # their positions backwards.\n",
    "    #\n",
    "    # Discard star particles that haven't been born yet\n",
    "    new_stars = np.logical_not(match)\n",
    "    position_t[new_stars] = data[ds1]['particle_position'][new_stars] - \\\n",
    "        fint*(dt/data['time_unit']) * data[ds1]['particle_velocity'][new_stars]\n",
    "    #print position_t[new_stars]\n",
    "\n",
    "    # Result dictionary with only radiating particle positions and LW luminosities\n",
    "    nonz = np.nonzero(luminosity_t)[0]\n",
    "    idata = dict(position = position_t[nonz], luminosity = luminosity_t[nonz])\n",
    "    return idata"
   ]
  },
  {
   "cell_type": "markdown",
   "metadata": {},
   "source": [
    "# Interpolate star particle positions and calculate J_LW at fine-grained redshift values"
   ]
  },
  {
   "cell_type": "code",
   "execution_count": 12,
   "metadata": {},
   "outputs": [],
   "source": [
    "def scale(val):\n",
    "    minv = 48.0\n",
    "    maxv = 52.0\n",
    "    srange = (1,100)\n",
    "    ds = (srange[1] - srange[0]) / (maxv - minv)\n",
    "    return (np.log10(val) - minv) * ds"
   ]
  },
  {
   "cell_type": "code",
   "execution_count": 13,
   "metadata": {},
   "outputs": [],
   "source": [
    "def plot_stars(idata, i, z):\n",
    "    fig, ax = plt.subplots(1,1, figsize=(10,8))\n",
    "    ax.scatter(iparticles['position'][:,0], iparticles['position'][:,1], \n",
    "                s=scale(iparticles['luminosity']), marker='o', edgecolors='k', alpha=0.3, c='C0')\n",
    "    ax.set_title('z = %.2f' % z)\n",
    "    ax.set_xlim(0,1)\n",
    "    ax.set_ylim(0,1)\n",
    "    plt.savefig('stars%4.4d.png' % (i))    "
   ]
  },
  {
   "cell_type": "code",
   "execution_count": 14,
   "metadata": {},
   "outputs": [],
   "source": [
    "N_to_J = 4.80814e-28  # ph/s/cm^2 -> erg/s/cm^2/Hz/sr"
   ]
  },
  {
   "cell_type": "code",
   "execution_count": 15,
   "metadata": {},
   "outputs": [],
   "source": [
    "def calc_JLW_at_point(idata, point, cm_boxsize, z):\n",
    "    if not isinstance(point, np.ndarray):\n",
    "        point = np.array(point)\n",
    "    if point.size != 3:\n",
    "        raise RuntimeError('Input (point) must be 3D position')\n",
    "    scale = cm_boxsize * 3.086e24 / (1 + z)\n",
    "    r2 = ((point - idata['position'])**2).sum(1) * scale**2\n",
    "    \n",
    "    # photon flux\n",
    "    NLW = (idata['luminosity'] / (4*np.pi * r2))\n",
    "    \n",
    "    # Convert to intensity\n",
    "    JLW = NLW * N_to_J\n",
    "\n",
    "    return JLW.sum()"
   ]
  },
  {
   "cell_type": "code",
   "execution_count": 16,
   "metadata": {},
   "outputs": [],
   "source": [
    "#zrange = (9.99,10)\n",
    "zrange = (15.05,25)\n",
    "dz = 0.05\n",
    "allz = np.mgrid[zrange[0]:zrange[1]+0.1*dz:dz]"
   ]
  },
  {
   "cell_type": "code",
   "execution_count": 17,
   "metadata": {
    "scrolled": true
   },
   "outputs": [
    {
     "name": "stdout",
     "output_type": "stream",
     "text": [
      "Redshift = 15.050000 (RedshiftOutput0040 -> RedshiftOutput0041; dt = 2.6 Myr)\n",
      "Redshift = 15.100000 (RedshiftOutput0039 -> RedshiftOutput0040; dt = 2.5 Myr)\n",
      "Redshift = 15.150000 (RedshiftOutput0039 -> RedshiftOutput0040; dt = 2.5 Myr)\n",
      "Redshift = 15.200000 (RedshiftOutput0038 -> RedshiftOutput0039; dt = 2.5 Myr)\n",
      "Redshift = 15.250000 (RedshiftOutput0038 -> RedshiftOutput0039; dt = 2.5 Myr)\n",
      "Redshift = 15.300000 (RedshiftOutput0037 -> RedshiftOutput0038; dt = 2.5 Myr)\n",
      "Redshift = 15.350000 (RedshiftOutput0037 -> RedshiftOutput0038; dt = 2.5 Myr)\n",
      "Redshift = 15.400000 (RedshiftOutput0036 -> RedshiftOutput0037; dt = 2.4 Myr)\n",
      "Redshift = 15.450000 (RedshiftOutput0036 -> RedshiftOutput0037; dt = 2.4 Myr)\n",
      "Redshift = 15.500000 (RedshiftOutput0035 -> RedshiftOutput0036; dt = 2.4 Myr)\n",
      "Redshift = 15.550000 (RedshiftOutput0035 -> RedshiftOutput0036; dt = 2.4 Myr)\n",
      "Redshift = 15.600000 (RedshiftOutput0034 -> RedshiftOutput0035; dt = 2.4 Myr)\n",
      "Redshift = 15.650000 (RedshiftOutput0034 -> RedshiftOutput0035; dt = 2.4 Myr)\n",
      "Redshift = 15.700000 (RedshiftOutput0033 -> RedshiftOutput0034; dt = 2.3 Myr)\n",
      "Redshift = 15.750000 (RedshiftOutput0033 -> RedshiftOutput0034; dt = 2.3 Myr)\n",
      "Redshift = 15.800000 (RedshiftOutput0032 -> RedshiftOutput0033; dt = 2.3 Myr)\n",
      "Redshift = 15.850000 (RedshiftOutput0032 -> RedshiftOutput0033; dt = 2.3 Myr)\n",
      "Redshift = 15.900000 (RedshiftOutput0031 -> RedshiftOutput0032; dt = 2.3 Myr)\n",
      "Redshift = 15.950000 (RedshiftOutput0031 -> RedshiftOutput0032; dt = 2.3 Myr)\n",
      "Redshift = 16.000000 (RedshiftOutput0030 -> RedshiftOutput0031; dt = 2.2 Myr)\n",
      "Redshift = 16.050000 (RedshiftOutput0030 -> RedshiftOutput0031; dt = 2.2 Myr)\n",
      "Redshift = 16.100000 (RedshiftOutput0029 -> RedshiftOutput0030; dt = 2.2 Myr)\n",
      "Redshift = 16.150000 (RedshiftOutput0029 -> RedshiftOutput0030; dt = 2.2 Myr)\n",
      "Redshift = 16.200000 (RedshiftOutput0028 -> RedshiftOutput0029; dt = 2.2 Myr)\n",
      "Redshift = 16.250000 (RedshiftOutput0028 -> RedshiftOutput0029; dt = 2.2 Myr)\n",
      "Redshift = 16.300000 (RedshiftOutput0027 -> RedshiftOutput0028; dt = 2.1 Myr)\n",
      "Redshift = 16.350000 (RedshiftOutput0027 -> RedshiftOutput0028; dt = 2.1 Myr)\n",
      "Redshift = 16.400000 (RedshiftOutput0026 -> RedshiftOutput0027; dt = 2.1 Myr)\n",
      "Redshift = 16.450000 (RedshiftOutput0026 -> RedshiftOutput0027; dt = 2.1 Myr)\n",
      "Redshift = 16.500000 (RedshiftOutput0025 -> RedshiftOutput0026; dt = 2.1 Myr)\n",
      "Redshift = 16.550000 (RedshiftOutput0025 -> RedshiftOutput0026; dt = 2.1 Myr)\n",
      "Redshift = 16.600000 (RedshiftOutput0024 -> RedshiftOutput0025; dt = 2.0 Myr)\n",
      "Redshift = 16.650000 (RedshiftOutput0024 -> RedshiftOutput0025; dt = 2.0 Myr)\n",
      "Redshift = 16.700000 (RedshiftOutput0023 -> RedshiftOutput0024; dt = 2.0 Myr)\n",
      "Redshift = 16.750000 (RedshiftOutput0023 -> RedshiftOutput0024; dt = 2.0 Myr)\n",
      "Redshift = 16.800000 (RedshiftOutput0022 -> RedshiftOutput0023; dt = 2.0 Myr)\n",
      "Redshift = 16.850000 (RedshiftOutput0022 -> RedshiftOutput0023; dt = 2.0 Myr)\n",
      "Redshift = 16.900000 (RedshiftOutput0021 -> RedshiftOutput0022; dt = 2.0 Myr)\n",
      "Redshift = 16.950000 (RedshiftOutput0021 -> RedshiftOutput0022; dt = 2.0 Myr)\n",
      "Redshift = 17.000000 (RedshiftOutput0020 -> RedshiftOutput0021; dt = 1.9 Myr)\n",
      "Redshift = 17.050000 (RedshiftOutput0020 -> RedshiftOutput0021; dt = 1.9 Myr)\n",
      "Redshift = 17.100000 (RedshiftOutput0019 -> RedshiftOutput0020; dt = 1.9 Myr)\n",
      "Redshift = 17.150000 (RedshiftOutput0019 -> RedshiftOutput0020; dt = 1.9 Myr)\n",
      "Redshift = 17.200000 (RedshiftOutput0018 -> RedshiftOutput0019; dt = 1.9 Myr)\n",
      "Redshift = 17.250000 (RedshiftOutput0018 -> RedshiftOutput0019; dt = 1.9 Myr)\n",
      "Redshift = 17.300000 (RedshiftOutput0017 -> RedshiftOutput0018; dt = 1.9 Myr)\n",
      "Redshift = 17.350000 (RedshiftOutput0017 -> RedshiftOutput0018; dt = 1.9 Myr)\n",
      "Redshift = 17.400000 (RedshiftOutput0016 -> RedshiftOutput0017; dt = 1.8 Myr)\n",
      "Redshift = 17.450000 (RedshiftOutput0016 -> RedshiftOutput0017; dt = 1.8 Myr)\n",
      "Redshift = 17.500000 (RedshiftOutput0015 -> RedshiftOutput0016; dt = 7.1 Myr)\n",
      "Redshift = 17.550000 (RedshiftOutput0015 -> RedshiftOutput0016; dt = 7.1 Myr)\n",
      "Redshift = 17.600000 (RedshiftOutput0015 -> RedshiftOutput0016; dt = 7.1 Myr)\n",
      "Redshift = 17.650000 (RedshiftOutput0015 -> RedshiftOutput0016; dt = 7.1 Myr)\n",
      "Redshift = 17.700000 (RedshiftOutput0015 -> RedshiftOutput0016; dt = 7.1 Myr)\n",
      "Redshift = 17.750000 (RedshiftOutput0015 -> RedshiftOutput0016; dt = 7.1 Myr)\n",
      "Redshift = 17.800000 (RedshiftOutput0015 -> RedshiftOutput0016; dt = 7.1 Myr)\n",
      "Redshift = 17.850000 (RedshiftOutput0015 -> RedshiftOutput0016; dt = 7.1 Myr)\n",
      "Redshift = 17.900000 (RedshiftOutput0014 -> RedshiftOutput0015; dt = 1.7 Myr)\n",
      "Redshift = 17.950000 (RedshiftOutput0014 -> RedshiftOutput0015; dt = 1.7 Myr)\n",
      "Redshift = 18.000000 (RedshiftOutput0013 -> RedshiftOutput0014; dt = 8.2 Myr)\n",
      "Redshift = 18.050000 (RedshiftOutput0013 -> RedshiftOutput0014; dt = 8.2 Myr)\n",
      "Redshift = 18.100000 (RedshiftOutput0013 -> RedshiftOutput0014; dt = 8.2 Myr)\n",
      "Redshift = 18.150000 (RedshiftOutput0013 -> RedshiftOutput0014; dt = 8.2 Myr)\n",
      "Redshift = 18.200000 (RedshiftOutput0013 -> RedshiftOutput0014; dt = 8.2 Myr)\n",
      "Redshift = 18.250000 (RedshiftOutput0013 -> RedshiftOutput0014; dt = 8.2 Myr)\n",
      "Redshift = 18.300000 (RedshiftOutput0013 -> RedshiftOutput0014; dt = 8.2 Myr)\n",
      "Redshift = 18.350000 (RedshiftOutput0013 -> RedshiftOutput0014; dt = 8.2 Myr)\n",
      "Redshift = 18.400000 (RedshiftOutput0013 -> RedshiftOutput0014; dt = 8.2 Myr)\n",
      "Redshift = 18.450000 (RedshiftOutput0013 -> RedshiftOutput0014; dt = 8.2 Myr)\n",
      "Redshift = 18.500000 (RedshiftOutput0012 -> RedshiftOutput0013; dt = 7.7 Myr)\n",
      "Redshift = 18.550000 (RedshiftOutput0012 -> RedshiftOutput0013; dt = 7.7 Myr)\n",
      "Redshift = 18.600000 (RedshiftOutput0012 -> RedshiftOutput0013; dt = 7.7 Myr)\n",
      "Redshift = 18.650000 (RedshiftOutput0012 -> RedshiftOutput0013; dt = 7.7 Myr)\n",
      "Redshift = 18.700000 (RedshiftOutput0012 -> RedshiftOutput0013; dt = 7.7 Myr)\n",
      "Redshift = 18.750000 (RedshiftOutput0012 -> RedshiftOutput0013; dt = 7.7 Myr)\n",
      "Redshift = 18.800000 (RedshiftOutput0012 -> RedshiftOutput0013; dt = 7.7 Myr)\n",
      "Redshift = 18.850000 (RedshiftOutput0012 -> RedshiftOutput0013; dt = 7.7 Myr)\n",
      "Redshift = 18.900000 (RedshiftOutput0012 -> RedshiftOutput0013; dt = 7.7 Myr)\n",
      "Redshift = 18.950000 (RedshiftOutput0012 -> RedshiftOutput0013; dt = 7.7 Myr)\n",
      "Redshift = 19.000000 (RedshiftOutput0011 -> RedshiftOutput0012; dt = 7.2 Myr)\n",
      "Redshift = 19.050000 (RedshiftOutput0011 -> RedshiftOutput0012; dt = 7.2 Myr)\n",
      "Redshift = 19.100000 (RedshiftOutput0011 -> RedshiftOutput0012; dt = 7.2 Myr)\n",
      "Redshift = 19.150000 (RedshiftOutput0011 -> RedshiftOutput0012; dt = 7.2 Myr)\n",
      "Redshift = 19.200000 (RedshiftOutput0011 -> RedshiftOutput0012; dt = 7.2 Myr)\n",
      "Redshift = 19.250000 (RedshiftOutput0011 -> RedshiftOutput0012; dt = 7.2 Myr)\n",
      "Redshift = 19.300000 (RedshiftOutput0011 -> RedshiftOutput0012; dt = 7.2 Myr)\n",
      "Redshift = 19.350000 (RedshiftOutput0011 -> RedshiftOutput0012; dt = 7.2 Myr)\n",
      "Redshift = 19.400000 (RedshiftOutput0011 -> RedshiftOutput0012; dt = 7.2 Myr)\n",
      "Redshift = 19.450000 (RedshiftOutput0011 -> RedshiftOutput0012; dt = 7.2 Myr)\n",
      "Redshift = 19.500000 (RedshiftOutput0010 -> RedshiftOutput0011; dt = 6.8 Myr)\n",
      "Redshift = 19.550000 (RedshiftOutput0010 -> RedshiftOutput0011; dt = 6.8 Myr)\n",
      "Redshift = 19.600000 (RedshiftOutput0010 -> RedshiftOutput0011; dt = 6.8 Myr)\n",
      "Redshift = 19.650000 (RedshiftOutput0010 -> RedshiftOutput0011; dt = 6.8 Myr)\n",
      "Redshift = 19.700000 (RedshiftOutput0010 -> RedshiftOutput0011; dt = 6.8 Myr)\n",
      "Redshift = 19.750000 (RedshiftOutput0010 -> RedshiftOutput0011; dt = 6.8 Myr)\n",
      "Redshift = 19.800000 (RedshiftOutput0010 -> RedshiftOutput0011; dt = 6.8 Myr)\n",
      "Redshift = 19.850000 (RedshiftOutput0010 -> RedshiftOutput0011; dt = 6.8 Myr)\n",
      "Redshift = 19.900000 (RedshiftOutput0010 -> RedshiftOutput0011; dt = 6.8 Myr)\n",
      "Redshift = 19.950000 (RedshiftOutput0010 -> RedshiftOutput0011; dt = 6.8 Myr)\n",
      "Redshift = 20.000000 (RedshiftOutput0009 -> RedshiftOutput0010; dt = 6.4 Myr)\n",
      "Redshift = 20.050000 (RedshiftOutput0009 -> RedshiftOutput0010; dt = 6.4 Myr)\n",
      "Redshift = 20.100000 (RedshiftOutput0009 -> RedshiftOutput0010; dt = 6.4 Myr)\n",
      "Redshift = 20.150000 (RedshiftOutput0009 -> RedshiftOutput0010; dt = 6.4 Myr)\n",
      "Redshift = 20.200000 (RedshiftOutput0009 -> RedshiftOutput0010; dt = 6.4 Myr)\n",
      "Redshift = 20.250000 (RedshiftOutput0009 -> RedshiftOutput0010; dt = 6.4 Myr)\n",
      "Redshift = 20.300000 (RedshiftOutput0009 -> RedshiftOutput0010; dt = 6.4 Myr)\n",
      "Redshift = 20.350000 (RedshiftOutput0009 -> RedshiftOutput0010; dt = 6.4 Myr)\n",
      "Redshift = 20.400000 (RedshiftOutput0009 -> RedshiftOutput0010; dt = 6.4 Myr)\n",
      "Redshift = 20.450000 (RedshiftOutput0009 -> RedshiftOutput0010; dt = 6.4 Myr)\n",
      "Redshift = 20.500000 (RedshiftOutput0008 -> RedshiftOutput0009; dt = 6.1 Myr)\n",
      "Redshift = 20.550000 (RedshiftOutput0008 -> RedshiftOutput0009; dt = 6.1 Myr)\n",
      "Redshift = 20.600000 (RedshiftOutput0008 -> RedshiftOutput0009; dt = 6.1 Myr)\n",
      "Redshift = 20.650000 (RedshiftOutput0008 -> RedshiftOutput0009; dt = 6.1 Myr)\n",
      "Redshift = 20.700000 (RedshiftOutput0008 -> RedshiftOutput0009; dt = 6.1 Myr)\n",
      "Redshift = 20.750000 (RedshiftOutput0008 -> RedshiftOutput0009; dt = 6.1 Myr)\n",
      "Redshift = 20.800000 (RedshiftOutput0008 -> RedshiftOutput0009; dt = 6.1 Myr)\n",
      "Redshift = 20.850000 (RedshiftOutput0008 -> RedshiftOutput0009; dt = 6.1 Myr)\n",
      "Redshift = 20.900000 (RedshiftOutput0008 -> RedshiftOutput0009; dt = 6.1 Myr)\n",
      "Redshift = 20.950000 (RedshiftOutput0008 -> RedshiftOutput0009; dt = 6.1 Myr)\n",
      "Redshift = 21.000000 (RedshiftOutput0007 -> RedshiftOutput0008; dt = 5.7 Myr)\n",
      "Redshift = 21.050000 (RedshiftOutput0007 -> RedshiftOutput0008; dt = 5.7 Myr)\n",
      "Redshift = 21.100000 (RedshiftOutput0007 -> RedshiftOutput0008; dt = 5.7 Myr)\n",
      "Redshift = 21.150000 (RedshiftOutput0007 -> RedshiftOutput0008; dt = 5.7 Myr)\n",
      "Redshift = 21.200000 (RedshiftOutput0007 -> RedshiftOutput0008; dt = 5.7 Myr)\n",
      "Redshift = 21.250000 (RedshiftOutput0007 -> RedshiftOutput0008; dt = 5.7 Myr)\n",
      "Redshift = 21.300000 (RedshiftOutput0007 -> RedshiftOutput0008; dt = 5.7 Myr)\n",
      "Redshift = 21.350000 (RedshiftOutput0007 -> RedshiftOutput0008; dt = 5.7 Myr)\n",
      "Redshift = 21.400000 (RedshiftOutput0007 -> RedshiftOutput0008; dt = 5.7 Myr)\n",
      "Redshift = 21.450000 (RedshiftOutput0007 -> RedshiftOutput0008; dt = 5.7 Myr)\n",
      "Redshift = 21.500000 (RedshiftOutput0006 -> RedshiftOutput0007; dt = 5.4 Myr)\n",
      "Redshift = 21.550000 (RedshiftOutput0006 -> RedshiftOutput0007; dt = 5.4 Myr)\n",
      "Redshift = 21.600000 (RedshiftOutput0006 -> RedshiftOutput0007; dt = 5.4 Myr)\n",
      "Redshift = 21.650000 (RedshiftOutput0006 -> RedshiftOutput0007; dt = 5.4 Myr)\n",
      "Redshift = 21.700000 (RedshiftOutput0006 -> RedshiftOutput0007; dt = 5.4 Myr)\n",
      "Redshift = 21.750000 (RedshiftOutput0006 -> RedshiftOutput0007; dt = 5.4 Myr)\n",
      "Redshift = 21.800000 (RedshiftOutput0006 -> RedshiftOutput0007; dt = 5.4 Myr)\n",
      "Redshift = 21.850000 (RedshiftOutput0006 -> RedshiftOutput0007; dt = 5.4 Myr)\n",
      "Redshift = 21.900000 (RedshiftOutput0006 -> RedshiftOutput0007; dt = 5.4 Myr)\n",
      "Redshift = 21.950000 (RedshiftOutput0006 -> RedshiftOutput0007; dt = 5.4 Myr)\n",
      "Redshift = 22.000000 (RedshiftOutput0005 -> RedshiftOutput0006; dt = 5.1 Myr)\n",
      "Redshift = 22.050000 (RedshiftOutput0005 -> RedshiftOutput0006; dt = 5.1 Myr)\n",
      "Redshift = 22.100000 (RedshiftOutput0005 -> RedshiftOutput0006; dt = 5.1 Myr)\n",
      "Redshift = 22.150000 (RedshiftOutput0005 -> RedshiftOutput0006; dt = 5.1 Myr)\n",
      "Redshift = 22.200000 (RedshiftOutput0005 -> RedshiftOutput0006; dt = 5.1 Myr)\n",
      "Redshift = 22.250000 (RedshiftOutput0005 -> RedshiftOutput0006; dt = 5.1 Myr)\n",
      "Redshift = 22.300000 (RedshiftOutput0005 -> RedshiftOutput0006; dt = 5.1 Myr)\n",
      "Redshift = 22.350000 (RedshiftOutput0005 -> RedshiftOutput0006; dt = 5.1 Myr)\n",
      "Redshift = 22.400000 (RedshiftOutput0005 -> RedshiftOutput0006; dt = 5.1 Myr)\n",
      "Redshift = 22.450000 (RedshiftOutput0005 -> RedshiftOutput0006; dt = 5.1 Myr)\n",
      "Redshift = 22.500000 (RedshiftOutput0004 -> RedshiftOutput0005; dt = 4.9 Myr)\n",
      "Redshift = 22.550000 (RedshiftOutput0004 -> RedshiftOutput0005; dt = 4.9 Myr)\n",
      "Redshift = 22.600000 (RedshiftOutput0004 -> RedshiftOutput0005; dt = 4.9 Myr)\n",
      "Redshift = 22.650000 (RedshiftOutput0004 -> RedshiftOutput0005; dt = 4.9 Myr)\n",
      "Redshift = 22.700000 (RedshiftOutput0004 -> RedshiftOutput0005; dt = 4.9 Myr)\n",
      "Redshift = 22.750000 (RedshiftOutput0004 -> RedshiftOutput0005; dt = 4.9 Myr)\n",
      "Redshift = 22.800000 (RedshiftOutput0004 -> RedshiftOutput0005; dt = 4.9 Myr)\n",
      "Redshift = 22.850000 (RedshiftOutput0004 -> RedshiftOutput0005; dt = 4.9 Myr)\n",
      "Redshift = 22.900000 (RedshiftOutput0004 -> RedshiftOutput0005; dt = 4.9 Myr)\n",
      "Redshift = 22.950000 (RedshiftOutput0004 -> RedshiftOutput0005; dt = 4.9 Myr)\n",
      "Redshift = 23.000000 (RedshiftOutput0003 -> RedshiftOutput0004; dt = 4.6 Myr)\n",
      "Redshift = 23.050000 (RedshiftOutput0003 -> RedshiftOutput0004; dt = 4.6 Myr)\n",
      "Redshift = 23.100000 (RedshiftOutput0003 -> RedshiftOutput0004; dt = 4.6 Myr)\n",
      "Redshift = 23.150000 (RedshiftOutput0003 -> RedshiftOutput0004; dt = 4.6 Myr)\n",
      "Redshift = 23.200000 (RedshiftOutput0003 -> RedshiftOutput0004; dt = 4.6 Myr)\n",
      "Redshift = 23.250000 (RedshiftOutput0003 -> RedshiftOutput0004; dt = 4.6 Myr)\n",
      "Redshift = 23.300000 (RedshiftOutput0003 -> RedshiftOutput0004; dt = 4.6 Myr)\n",
      "Redshift = 23.350000 (RedshiftOutput0003 -> RedshiftOutput0004; dt = 4.6 Myr)\n",
      "Redshift = 23.400000 (RedshiftOutput0003 -> RedshiftOutput0004; dt = 4.6 Myr)\n",
      "Redshift = 23.450000 (RedshiftOutput0003 -> RedshiftOutput0004; dt = 4.6 Myr)\n",
      "Redshift = 23.500000 (RedshiftOutput0002 -> RedshiftOutput0003; dt = 4.4 Myr)\n",
      "Redshift = 23.550000 (RedshiftOutput0002 -> RedshiftOutput0003; dt = 4.4 Myr)\n",
      "Redshift = 23.600000 (RedshiftOutput0002 -> RedshiftOutput0003; dt = 4.4 Myr)\n",
      "Redshift = 23.650000 (RedshiftOutput0002 -> RedshiftOutput0003; dt = 4.4 Myr)\n",
      "Redshift = 23.700000 (RedshiftOutput0002 -> RedshiftOutput0003; dt = 4.4 Myr)\n",
      "Redshift = 23.750000 (RedshiftOutput0002 -> RedshiftOutput0003; dt = 4.4 Myr)\n",
      "Redshift = 23.800000 (RedshiftOutput0002 -> RedshiftOutput0003; dt = 4.4 Myr)\n",
      "Redshift = 23.850000 (RedshiftOutput0002 -> RedshiftOutput0003; dt = 4.4 Myr)\n",
      "Redshift = 23.900000 (RedshiftOutput0002 -> RedshiftOutput0003; dt = 4.4 Myr)\n",
      "Redshift = 23.950000 (RedshiftOutput0002 -> RedshiftOutput0003; dt = 4.4 Myr)\n",
      "Redshift (24.000000) out of range. No data. Skipping.\n",
      "Redshift (24.050000) out of range. No data. Skipping.\n",
      "Redshift (24.100000) out of range. No data. Skipping.\n",
      "Redshift (24.150000) out of range. No data. Skipping.\n",
      "Redshift (24.200000) out of range. No data. Skipping.\n",
      "Redshift (24.250000) out of range. No data. Skipping.\n",
      "Redshift (24.300000) out of range. No data. Skipping.\n",
      "Redshift (24.350000) out of range. No data. Skipping.\n",
      "Redshift (24.400000) out of range. No data. Skipping.\n",
      "Redshift (24.450000) out of range. No data. Skipping.\n",
      "Redshift (24.500000) out of range. No data. Skipping.\n",
      "Redshift (24.550000) out of range. No data. Skipping.\n",
      "Redshift (24.600000) out of range. No data. Skipping.\n",
      "Redshift (24.650000) out of range. No data. Skipping.\n",
      "Redshift (24.700000) out of range. No data. Skipping.\n",
      "Redshift (24.750000) out of range. No data. Skipping.\n",
      "Redshift (24.800000) out of range. No data. Skipping.\n",
      "Redshift (24.850000) out of range. No data. Skipping.\n",
      "Redshift (24.900000) out of range. No data. Skipping.\n",
      "Redshift (24.950000) out of range. No data. Skipping.\n",
      "Redshift (25.000000) out of range. No data. Skipping.\n"
     ]
    }
   ],
   "source": [
    "boxsize = sdata['boxsize'] # comoving Mpc\n",
    "JLW = np.zeros(allz.size)\n",
    "for i,z in enumerate(allz):\n",
    "    ds0, ds1, factor = find_adj_ds(z, redshift)\n",
    "    if ds0 == None or ds1 == None:\n",
    "        print(\"Redshift (%f) out of range. No data. Skipping.\" % (z))\n",
    "        continue\n",
    "    #print z, redshift[ds0], redshift[ds1], ds0, ds1, factor\n",
    "    dt = time[ds1] - time[ds0]\n",
    "    dpoint = center[ds1] - center[ds0]\n",
    "    point = center[ds0] + factor*dpoint\n",
    "    print(\"Redshift = %f (%s -> %s; dt = %.1f Myr)\" % (z, ds0, ds1, dt))\n",
    "    iparticles = interp_particles(sdata, ds0, ds1, dt, factor)\n",
    "    JLW[i] = calc_JLW_at_point(iparticles, point, boxsize, z)\n",
    "    #plot_stars(iparticles, i, z)"
   ]
  },
  {
   "cell_type": "code",
   "execution_count": 18,
   "metadata": {},
   "outputs": [
    {
     "data": {
      "image/png": "[encoded data removed]",
      "text/plain": [
       "<Figure size 720x576 with 1 Axes>"
      ]
     },
     "metadata": {
      "needs_background": "light"
     },
     "output_type": "display_data"
    }
   ],
   "source": [
    "fig, ax = plt.subplots(1,1, figsize=(10,8))\n",
    "#ax.semilogy(allz, JLW*1e21, lw=3)\n",
    "ax.plot(allz, JLW*1e21, lw=3)\n",
    "ax.set_xlabel('Redshift')\n",
    "ax.set_ylabel(r'J$_{LW}$/J$_{21}$')\n",
    "#ax.set_ylabel(r'log(J$_{LW}$/J$_{21}$)')\n",
    "plt.show()"
   ]
  },
  {
   "cell_type": "code",
   "execution_count": 19,
   "metadata": {},
   "outputs": [
    {
     "data": {
      "image/png": "[encoded data removed]",
      "text/plain": [
       "<Figure size 720x576 with 1 Axes>"
      ]
     },
     "metadata": {
      "needs_background": "light"
     },
     "output_type": "display_data"
    }
   ],
   "source": [
    "fig, ax = plt.subplots(1,1, figsize=(10,8))\n",
    "#ax.semilogy(allz, JLW*1e21, lw=3)\n",
    "ax.semilogy(allz, JLW*1e21, lw=3)\n",
    "ax.set_xlabel('Redshift')\n",
    "ax.set_ylabel(r'J$_{LW}$/J$_{21}$')\n",
    "#ax.set_ylabel(r'log(J$_{LW}$/J$_{21}$)')\n",
    "plt.show()"
   ]
  },
  {
   "cell_type": "code",
   "execution_count": 20,
   "metadata": {},
   "outputs": [],
   "source": [
    "# Background from Wise & Abel (2005), Wise et al. (2012b)\n",
    "zz = allz+1\n",
    "log_LWB = -23.56688 + 4.5213e-1 * zz - 2.679832e-2 * zz**2 + 5.88234e-4 * zz**3 - \\\n",
    "    5.05576e-6 * zz**4\n",
    "LWB = 10**log_LWB\n",
    "JLW_total = JLW + LWB"
   ]
  },
  {
   "cell_type": "code",
   "execution_count": 21,
   "metadata": {},
   "outputs": [
    {
     "data": {
      "image/png": "[encoded data removed]",
      "text/plain": [
       "<Figure size 720x576 with 1 Axes>"
      ]
     },
     "metadata": {
      "needs_background": "light"
     },
     "output_type": "display_data"
    }
   ],
   "source": [
    "fig, ax = plt.subplots(1,1, figsize=(10,8))\n",
    "#ax.semilogy(allz, JLW*1e21, lw=3)\n",
    "ax.plot(allz, JLW*1e21, lw=2, ls='--', label='Local Sources')\n",
    "ax.plot(allz, LWB*1e21, lw=2, ls=':', label='BG (Wise+ 2012)')\n",
    "ax.plot(allz, JLW_total*1e21, c='k', lw=4, ls='-', label='Combined')\n",
    "ax.set_xlabel('Redshift')\n",
    "ax.set_ylabel(r'J$_{LW}$/J$_{21}$')\n",
    "ax.legend(loc='best')\n",
    "#ax.set_ylabel(r'log(J$_{LW}$/J$_{21}$)')\n",
    "plt.show()"
   ]
  },
  {
   "cell_type": "markdown",
   "metadata": {},
   "source": [
    "# Create Lyman-Werner background table for Grackle\n",
    "Needs rates, not intensities.  We only provide the H2 dissociation rate and we neglect any ionization and heating."
   ]
  },
  {
   "cell_type": "code",
   "execution_count": 22,
   "metadata": {},
   "outputs": [],
   "source": [
    "def k31(J21):\n",
    "    return 1.42e9 * (J21)"
   ]
  },
  {
   "cell_type": "code",
   "execution_count": 23,
   "metadata": {},
   "outputs": [],
   "source": [
    "outfile = \"LWB-MMHalo.h5\"\n",
    "info_string = \"RS-RP-MMHalo-LWB\"\n",
    "\n",
    "rate_names = [\"k24\", \"k25\", \"k26\", \"k27\", \"k28\", \"k29\", \"k30\", \"k31\",\n",
    "              \"piHI\", \"piHeII\", \"piHeI\"]\n",
    "\n",
    "outdata = dict(z = allz,\n",
    "               k31 = k31(JLW_total))\n",
    "\n",
    "rate0 = np.zeros(outdata[\"z\"].size)\n",
    "\n",
    "fp = h5.File(outfile, \"w\")\n",
    "\n",
    "fp['UVBRates/Info'] = np.string_(info_string)\n",
    "fp['UVBRates/z'] = outdata[\"z\"]\n",
    "\n",
    "for name in rate_names:\n",
    "    if name == \"z\":\n",
    "        fname = \"/UVBRates/%s\" % (name)\n",
    "    elif name.startswith(\"k\"):\n",
    "        fname = \"/UVBRates/Chemistry/%s\" % (name)\n",
    "    else:\n",
    "        fname = \"/UVBRates/Photoheating/%s\" % (name)\n",
    "    if name not in outdata.keys():\n",
    "        fp[fname] = rate0\n",
    "    else:\n",
    "        fp[fname] = outdata[name]\n",
    "\n",
    "fp.close()"
   ]
  },
  {
   "cell_type": "code",
   "execution_count": null,
   "metadata": {},
   "outputs": [],
   "source": []
  }
 ],
 "metadata": {
  "kernelspec": {
   "display_name": "Python 3 (ipykernel)",
   "language": "python",
   "name": "python3"
  },
  "language_info": {
   "codemirror_mode": {
    "name": "ipython",
    "version": 3
   },
   "file_extension": ".py",
   "mimetype": "text/x-python",
   "name": "python",
   "nbconvert_exporter": "python",
   "pygments_lexer": "ipython3",
   "version": "3.10.12"
  }
 },
 "nbformat": 4,
 "nbformat_minor": 4
}
